{
  "cells": [
    {
      "cell_type": "code",
      "execution_count": 1,
      "metadata": {
        "id": "PNCRpmrInuG_"
      },
      "outputs": [],
      "source": [
        "import matplotlib.pyplot as plt\n",
        "import matplotlib.animation as animation\n",
        "from matplotlib.animation import FuncAnimation\n",
        "from matplotlib.scale import LinearScale\n",
        "import math\n",
        "from math import sin, cos, radians\n",
        "import time\n",
        "from random import randint as rand\n",
        "import numpy as np\n",
        "from p5 import setup, draw, size, background, run"
      ]
    },
    {
      "cell_type": "code",
      "execution_count": 2,
      "metadata": {
        "id": "Xf84IHOznuHB"
      },
      "outputs": [],
      "source": [
        "dt=0.01\n",
        "num_frames=5"
      ]
    },
    {
      "cell_type": "code",
      "execution_count": 3,
      "metadata": {
        "id": "KsUBOfRRnuHC"
      },
      "outputs": [],
      "source": [
        "class point:\n",
        "    def __init__(self,x,y):\n",
        "        self.x=x \n",
        "        self.y=y \n",
        "    def __add__(self, p):\n",
        "        return point(self.x+p.x,self.y+p.y)\n",
        "    def __sub__(self, p):\n",
        "        return point(self.x-p.x,self.y-p.y)\n",
        "    def __mul__(self,s):\n",
        "        return point(self.x*s,self.y*s)\n",
        "    def print(self):\n",
        "        print(\"(\",self.x,\",\",self.y,\")\")"
      ]
    },
    {
      "cell_type": "code",
      "execution_count": 4,
      "metadata": {
        "id": "n-BmKcvenuHD"
      },
      "outputs": [],
      "source": [
        "#utility functions\n",
        "def GetOrthUnitVector(V):#V is a point\n",
        "    if V.y==0:\n",
        "        return point(0,1)\n",
        "    v1=5\n",
        "    v2=(-(V.x)/V.y)*v1\n",
        "    magnitude=math.sqrt(v1**2+v2**2)\n",
        "    v2=v2/magnitude\n",
        "    v1=v1/magnitude\n",
        "    return point(v1,v2)\n",
        "\n",
        "def PrintPoints(points):\n",
        "    for x in points:\n",
        "        x.print()\n",
        "\n",
        "def DrawRectangle(p):\n",
        "    x, y = [p[i].x for i in range(4)], [p[i].y for i in range(4)]\n",
        "    x.append(p[0].x)\n",
        "    y.append(p[0].y)\n",
        "    plt.plot(x,y)"
      ]
    },
    {
      "cell_type": "code",
      "execution_count": 5,
      "metadata": {
        "id": "XFfO-nXwnuHE"
      },
      "outputs": [],
      "source": [
        "class vehicle:\n",
        "    def __init__(self, length, width, speed_limit, acc_limit, centroid, angle, v, a):\n",
        "        #parameters\n",
        "        self.length = length\n",
        "        self.width = width\n",
        "        self.speed_limit = speed_limit \n",
        "        self.acc_limit = acc_limit \n",
        "        #state variables\n",
        "        self.centroid = centroid \n",
        "        self.angle = angle \n",
        "        self.v = v\n",
        "        self.a = a\n",
        "    def StateToCorners(self):\n",
        "        dir_vect=point(math.cos(self.angle),math.sin(self.angle))\n",
        "        dir_vect=dir_vect*(self.length/2)\n",
        "        orth_vect=GetOrthUnitVector(dir_vect)\n",
        "        orth_vect=point(orth_vect.x*(self.width)/2,orth_vect.y*(self.width)/2)\n",
        "        points=[]\n",
        "        points.append(self.centroid+dir_vect+orth_vect)\n",
        "        points.append(self.centroid+dir_vect-orth_vect)\n",
        "        points.append(self.centroid-dir_vect-orth_vect)\n",
        "        points.append(self.centroid-dir_vect+orth_vect)\n",
        "        return points\n",
        "    def DrawVehicle(self):\n",
        "        p=self.StateToCorners()\n",
        "        DrawRectangle(p)\n",
        "        \n",
        "        plt.plot(self.centroid.x,self.centroid.y,marker=\"o\",markersize=5,markerfacecolor=\"green\")\n",
        "        ax = plt.gca()\n",
        "        ax.set_aspect('equal', adjustable='box')\n",
        "        plt.show()\n",
        "    def ShortestDistance(self,V):\n",
        "        veh1=self.StateToCorners()\n",
        "        veh2=V.StateToCorners()\n",
        "        min=99999999\n",
        "        for i in veh1:\n",
        "            for j in veh2:\n",
        "                dist = math.dist([i.x, i.y], [j.x, j.y])\n",
        "                if dist<min:\n",
        "                    min=dist\n",
        "        return min\n",
        "    def controller(self):\n",
        "        return self.a #will return acceleration at t+1 using acceleration at t\n",
        "    def updateStateVars(self):\n",
        "            self.v=self.v+(self.controller()*dt)\n",
        "            self.centroid=self.centroid+self.v*dt\n",
        "            self.angle=math.atan2(self.v.y,self.v.x)\n",
        "    def getxyLists(self):\n",
        "      p=self.StateToCorners()\n",
        "      x, y = [p[i].x for i in range(4)], [p[i].y for i in range(4)]\n",
        "      x.append(p[0].x)\n",
        "      y.append(p[0].y)\n",
        "      return x,y\n",
        "    "
      ]
    },
    {
      "cell_type": "code",
      "execution_count": null,
      "metadata": {
        "id": "eCz1D584nuHJ"
      },
      "outputs": [],
      "source": [
        "fig = plt.figure()\n",
        "l=6\n",
        "w=2\n",
        "vehicle_angle=radians(60)\n",
        "vel_angle=radians(90)#angle the velocity vector makes with x axis\n",
        "vel_dir=point(cos(vel_angle),sin(vel_angle))#unit vector in the direction of velocity\n",
        "centroid=point(-7,-6)\n",
        "curr_speed=10#magnitude of velocity\n",
        "curr_vel=vel_dir*curr_speed"
      ]
    },
    {
      "cell_type": "code",
      "execution_count": 30,
      "metadata": {
        "id": "U37-EqkNoI5n"
      },
      "outputs": [],
      "source": [
        "def simulate(Vs, fn):\n",
        "    fig = plt.figure()\n",
        "\n",
        "    axis = plt.axes(xlim =(-20, 20),\n",
        "            ylim =(-20, 20))\n",
        "\n",
        "    x_list = []\n",
        "    y_list = []\n",
        "    \n",
        "    for V in Vs:\n",
        "        # get the x and y coordinates for the current vehicle\n",
        "        x, y = V.getxyLists()\n",
        "        # append the x and y coordinates to the lists\n",
        "        x_list.append(x)\n",
        "        y_list.append(y)\n",
        "\n",
        "    \n",
        "    lines=[]\n",
        "    for j in range(len(Vs)):\n",
        "      line, =axis.plot(x_list[j], y_list[j])\n",
        "      lines.append(line) #storing all 2d lines (rectangles) in a list\n",
        "\n",
        "    \n",
        "    def init():\n",
        "        lines[0].set_data(x_list[0], y_list[0])\n",
        "        return lines\n",
        "\n",
        "    def animate(i):\n",
        "        # loop over the list of vehicles\n",
        "        for count, V in enumerate(Vs):\n",
        "            # update the state variables for each vehicle\n",
        "            V.updateStateVars()\n",
        "            # get the updated x and y coordinates for the current vehicle\n",
        "            x, y = V.getxyLists()\n",
        "            # update the x and y lists with the updated coordinates\n",
        "            x_list[count] = x\n",
        "            y_list[count] = y\n",
        "        # update all lines with the updated x and y lists\n",
        "        for j in range(len(Vs)):\n",
        "          lines[j].set_data(x_list[j], y_list[j])\n",
        "        return lines\n",
        "\n",
        "    anim = FuncAnimation(fig, animate, init_func = init,\n",
        "            frames = 500, interval = 200, blit = True)\n",
        "\n",
        "    #anim.save(fn, writer = 'ffmpeg', fps = 30)\n"
      ]
    },
    {
      "cell_type": "code",
      "execution_count": 35,
      "metadata": {
        "colab": {
          "base_uri": "https://localhost:8080/",
          "height": 269
        },
        "id": "hxp5fB4OaN6Q",
        "outputId": "afedd7d2-c78d-44f0-8441-a22a86195ca5"
      },
      "outputs": [
        {
          "data": {
            "image/png": "[encoded data removed]",
            "text/plain": [
              "<Figure size 432x288 with 1 Axes>"
            ]
          },
          "metadata": {
            "needs_background": "light"
          },
          "output_type": "display_data"
        }
      ],
      "source": [
        "Vs=[]\n",
        "Vs.append(vehicle(l,w,0,0,point(-10,-15),vehicle_angle,curr_vel,point(0,0)))\n",
        "\n",
        "vel_angle=radians(90)#angle the velocity vector makes with x axis\n",
        "vel_dir=point(cos(vel_angle),sin(vel_angle))#unit vector in the direction of velocity\n",
        "curr_speed=7#magnitude of velocity\n",
        "curr_vel=vel_dir*curr_speed\n",
        "\n",
        "Vs.append(vehicle(l,w,0,0,point(5,-5),vehicle_angle,curr_vel,point(0,0)))\n",
        "simulate(Vs, \"simulation.mp4\")"
      ]
    },
    {
      "cell_type": "code",
      "execution_count": null,
      "metadata": {
        "id": "_g1XtOYsbMKl"
      },
      "outputs": [],
      "source": []
    }
  ],
  "metadata": {
    "colab": {
      "provenance": []
    },
    "kernelspec": {
      "display_name": "Python 3",
      "language": "python",
      "name": "python3"
    },
    "language_info": {
      "codemirror_mode": {
        "name": "ipython",
        "version": 3
      },
      "file_extension": ".py",
      "mimetype": "text/x-python",
      "name": "python",
      "nbconvert_exporter": "python",
      "pygments_lexer": "ipython3",
      "version": "3.10.9 (tags/v3.10.9:1dd9be6, Dec  6 2022, 20:01:21) [MSC v.1934 64 bit (AMD64)]"
    },
    "orig_nbformat": 4,
    "vscode": {
      "interpreter": {
        "hash": "3c1617fc91a8b81cccac84f722718acc17319970cc77b8a7adba33e37745b0fe"
      }
    }
  },
  "nbformat": 4,
  "nbformat_minor": 0
}
