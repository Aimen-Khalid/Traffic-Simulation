{
  "cells": [
    {
      "cell_type": "markdown",
      "metadata": {
        "id": "fozYh-Bw3505"
      },
      "source": [
        "\n",
        "\n",
        "*   Overpass QL Language\n",
        "*   a \"way\" is a linear feature, such as a road, path, or river, that is made up of one or more connected segments. Each segment is defined by a pair of latitude and longitude coordinates (also known as a \"node\"), and the way is defined by a sequence of these nodes. Ways can be tagged with various attributes, such as their name, type (e.g., motorway, residential)\n",
        "\n",
        "Bounding box\n",
        "\n",
        "---\n",
        "\n"
      ]
    },
    {
      "cell_type": "markdown",
      "metadata": {
        "id": "oF0gfQtF43NR"
      },
      "source": [
        "Some tags in open street\n",
        "\n",
        "**highway**: This tag is used to describe the type of road or path that a way represents. Possible values include motorway, trunk, primary, secondary, tertiary, unclassified, residential, service, and many others.\n",
        "\n",
        "**name**: This tag is used to specify the name of a way, node, or relation.\n",
        "\n",
        "**oneway**: This tag is used to indicate whether a way is a one-way street or not. Possible values are yes, no, or reverse.\n",
        "\n",
        "**surface**: This tag is used to describe the material that the surface of a way is made of. Possible values include asphalt, concrete, cobblestone, gravel, dirt, and many others.\n",
        "\n",
        "**lanes**: This tag is used to specify the number of lanes on a road.\n",
        "\n",
        "**maxspeed**: This tag is used to specify the maximum speed limit on a way.\n",
        "\n",
        "[Tag search engine](http://tagfinder.herokuapp.com/search?query=width&lang=en)\n",
        "\n",
        "\n",
        "---\n",
        "\n",
        "The possible values of the highway tag in OpenStreetMap data are as follows:\n",
        "\n",
        "motorway\n",
        "trunk\n",
        "primary\n",
        "secondary\n",
        "tertiary\n",
        "unclassified\n",
        "residential\n",
        "service\n",
        "motorway_link\n",
        "trunk_link\n",
        "primary_link\n",
        "secondary_link\n",
        "tertiary_link"
      ]
    },
    {
      "cell_type": "code",
      "execution_count": 1,
      "metadata": {
        "id": "rBSPzSkLKBRU"
      },
      "outputs": [],
      "source": [
        "import folium\n",
        "from folium.plugins import Draw\n",
        "import requests\n",
        "import json\n",
        "import pandas as pd\n",
        "import tkinter as tk\n",
        "from tkinter import filedialog"
      ]
    },
    {
      "cell_type": "code",
      "execution_count": 2,
      "metadata": {
        "colab": {
          "base_uri": "https://localhost:8080/",
          "height": 866
        },
        "id": "PHeL27ygJzPT",
        "outputId": "5b6fa1a3-54ec-457b-b5c1-b41ff7174434"
      },
      "outputs": [
        {
          "data": {
            "text/html": [
              "<div style=\"width:100%;\"><div style=\"position:relative;width:100%;height:0;padding-bottom:60%;\"><span style=\"color:#565656\">Make this Notebook Trusted to load map: File -> Trust Notebook</span><iframe srcdoc=\"&lt;!DOCTYPE html&gt;\n",
              "&lt;html&gt;\n",
              "&lt;head&gt;\n",
              "    \n",
              "    &lt;meta http-equiv=&quot;content-type&quot; content=&quot;text/html; charset=UTF-8&quot; /&gt;\n",
              "    \n",
              "        &lt;script&gt;\n",
              "            L_NO_TOUCH = false;\n",
              "            L_DISABLE_3D = false;\n",
              "        &lt;/script&gt;\n",
              "    \n",
              "    &lt;style&gt;html, body {width: 100%;height: 100%;margin: 0;padding: 0;}&lt;/style&gt;\n",
              "    &lt;style&gt;#map {position:absolute;top:0;bottom:0;right:0;left:0;}&lt;/style&gt;\n",
              "    &lt;script src=&quot;https://cdn.jsdelivr.net/npm/leaflet@1.9.3/dist/leaflet.js&quot;&gt;&lt;/script&gt;\n",
              "    &lt;script src=&quot;https://code.jquery.com/jquery-1.12.4.min.js&quot;&gt;&lt;/script&gt;\n",
              "    &lt;script src=&quot;https://cdn.jsdelivr.net/npm/bootstrap@5.2.2/dist/js/bootstrap.bundle.min.js&quot;&gt;&lt;/script&gt;\n",
              "    &lt;script src=&quot;https://cdnjs.cloudflare.com/ajax/libs/Leaflet.awesome-markers/2.0.2/leaflet.awesome-markers.js&quot;&gt;&lt;/script&gt;\n",
              "    &lt;link rel=&quot;stylesheet&quot; href=&quot;https://cdn.jsdelivr.net/npm/leaflet@1.9.3/dist/leaflet.css&quot;/&gt;\n",
              "    &lt;link rel=&quot;stylesheet&quot; href=&quot;https://cdn.jsdelivr.net/npm/bootstrap@5.2.2/dist/css/bootstrap.min.css&quot;/&gt;\n",
              "    &lt;link rel=&quot;stylesheet&quot; href=&quot;https://netdna.bootstrapcdn.com/bootstrap/3.0.0/css/bootstrap.min.css&quot;/&gt;\n",
              "    &lt;link rel=&quot;stylesheet&quot; href=&quot;https://cdn.jsdelivr.net/npm/@fortawesome/fontawesome-free@6.2.0/css/all.min.css&quot;/&gt;\n",
              "    &lt;link rel=&quot;stylesheet&quot; href=&quot;https://cdnjs.cloudflare.com/ajax/libs/Leaflet.awesome-markers/2.0.2/leaflet.awesome-markers.css&quot;/&gt;\n",
              "    &lt;link rel=&quot;stylesheet&quot; href=&quot;https://cdn.jsdelivr.net/gh/python-visualization/folium/folium/templates/leaflet.awesome.rotate.min.css&quot;/&gt;\n",
              "    \n",
              "            &lt;meta name=&quot;viewport&quot; content=&quot;width=device-width,\n",
              "                initial-scale=1.0, maximum-scale=1.0, user-scalable=no&quot; /&gt;\n",
              "            &lt;style&gt;\n",
              "                #map_b937c456bdbae8a13895dfcc216d90cc {\n",
              "                    position: relative;\n",
              "                    width: 100.0%;\n",
              "                    height: 100.0%;\n",
              "                    left: 0.0%;\n",
              "                    top: 0.0%;\n",
              "                }\n",
              "                .leaflet-container { font-size: 1rem; }\n",
              "            &lt;/style&gt;\n",
              "        \n",
              "    &lt;script src=&quot;https://cdnjs.cloudflare.com/ajax/libs/leaflet.draw/1.0.2/leaflet.draw.js&quot;&gt;&lt;/script&gt;\n",
              "    &lt;link rel=&quot;stylesheet&quot; href=&quot;https://cdnjs.cloudflare.com/ajax/libs/leaflet.draw/1.0.2/leaflet.draw.css&quot;/&gt;\n",
              "    \n",
              "            &lt;style&gt;\n",
              "                #export {\n",
              "                    position: absolute;\n",
              "                    top: 5px;\n",
              "                    right: 10px;\n",
              "                    z-index: 999;\n",
              "                    background: white;\n",
              "                    color: black;\n",
              "                    padding: 6px;\n",
              "                    border-radius: 4px;\n",
              "                    font-family: &#x27;Helvetica Neue&#x27;;\n",
              "                    cursor: pointer;\n",
              "                    font-size: 12px;\n",
              "                    text-decoration: none;\n",
              "                    top: 90px;\n",
              "                }\n",
              "            &lt;/style&gt;\n",
              "        \n",
              "&lt;/head&gt;\n",
              "&lt;body&gt;\n",
              "    \n",
              "    \n",
              "            &lt;div class=&quot;folium-map&quot; id=&quot;map_b937c456bdbae8a13895dfcc216d90cc&quot; &gt;&lt;/div&gt;\n",
              "        \n",
              "    &lt;a href=&#x27;#&#x27; id=&#x27;export&#x27;&gt;Export&lt;/a&gt;\n",
              "&lt;/body&gt;\n",
              "&lt;script&gt;\n",
              "    \n",
              "    \n",
              "            var map_b937c456bdbae8a13895dfcc216d90cc = L.map(\n",
              "                &quot;map_b937c456bdbae8a13895dfcc216d90cc&quot;,\n",
              "                {\n",
              "                    center: [31.4759195540543, 74.34271417873934],\n",
              "                    crs: L.CRS.EPSG3857,\n",
              "                    zoom: 16,\n",
              "                    zoomControl: true,\n",
              "                    preferCanvas: false,\n",
              "                }\n",
              "            );\n",
              "\n",
              "            \n",
              "\n",
              "        \n",
              "    \n",
              "            var tile_layer_9c211b10588e33960b106a237b8e34b2 = L.tileLayer(\n",
              "                &quot;https://{s}.tile.openstreetmap.org/{z}/{x}/{y}.png&quot;,\n",
              "                {&quot;attribution&quot;: &quot;Data by \\u0026copy; \\u003ca target=\\&quot;_blank\\&quot; href=\\&quot;http://openstreetmap.org\\&quot;\\u003eOpenStreetMap\\u003c/a\\u003e, under \\u003ca target=\\&quot;_blank\\&quot; href=\\&quot;http://www.openstreetmap.org/copyright\\&quot;\\u003eODbL\\u003c/a\\u003e.&quot;, &quot;detectRetina&quot;: false, &quot;maxNativeZoom&quot;: 18, &quot;maxZoom&quot;: 18, &quot;minZoom&quot;: 0, &quot;noWrap&quot;: false, &quot;opacity&quot;: 1, &quot;subdomains&quot;: &quot;abc&quot;, &quot;tms&quot;: false}\n",
              "            ).addTo(map_b937c456bdbae8a13895dfcc216d90cc);\n",
              "        \n",
              "    \n",
              "            var options = {\n",
              "              position: &quot;topleft&quot;,\n",
              "              draw: {},\n",
              "              edit: {},\n",
              "            }\n",
              "            // FeatureGroup is to store editable layers.\n",
              "            var drawnItems = new L.featureGroup().addTo(\n",
              "                map_b937c456bdbae8a13895dfcc216d90cc\n",
              "            );\n",
              "            options.edit.featureGroup = drawnItems;\n",
              "            var draw_control_bc6ff25d79698532d0a8a127279f7bef = new L.Control.Draw(\n",
              "                options\n",
              "            ).addTo( map_b937c456bdbae8a13895dfcc216d90cc );\n",
              "            map_b937c456bdbae8a13895dfcc216d90cc.on(L.Draw.Event.CREATED, function(e) {\n",
              "                var layer = e.layer,\n",
              "                    type = e.layerType;\n",
              "                var coords = JSON.stringify(layer.toGeoJSON());\n",
              "                layer.on(&#x27;click&#x27;, function() {\n",
              "                    alert(coords);\n",
              "                    console.log(coords);\n",
              "                });\n",
              "                drawnItems.addLayer(layer);\n",
              "             });\n",
              "            map_b937c456bdbae8a13895dfcc216d90cc.on(&#x27;draw:created&#x27;, function(e) {\n",
              "                drawnItems.addLayer(e.layer);\n",
              "            });\n",
              "            \n",
              "            document.getElementById(&#x27;export&#x27;).onclick = function(e) {\n",
              "                var data = drawnItems.toGeoJSON();\n",
              "                var convertedData = &#x27;text/json;charset=utf-8,&#x27;\n",
              "                    + encodeURIComponent(JSON.stringify(data));\n",
              "                document.getElementById(&#x27;export&#x27;).setAttribute(\n",
              "                    &#x27;href&#x27;, &#x27;data:&#x27; + convertedData\n",
              "                );\n",
              "                document.getElementById(&#x27;export&#x27;).setAttribute(\n",
              "                    &#x27;download&#x27;, &quot;coordinates.geojson&quot;\n",
              "                );\n",
              "            }\n",
              "            \n",
              "        \n",
              "&lt;/script&gt;\n",
              "&lt;/html&gt;\" style=\"position:absolute;width:100%;height:100%;left:0;top:0;border:none !important;\" allowfullscreen webkitallowfullscreen mozallowfullscreen></iframe></div></div>"
            ],
            "text/plain": [
              "<folium.folium.Map at 0x23f3e23cdf0>"
            ]
          },
          "execution_count": 2,
          "metadata": {},
          "output_type": "execute_result"
        }
      ],
      "source": [
        "m = folium.Map(location=[31.4759195540543, 74.34271417873934], zoom_start=16)\n",
        "\n",
        "draw = Draw(export=True, filename='coordinates.geojson')\n",
        "\n",
        "draw.add_to(m)\n",
        "m"
      ]
    },
    {
      "cell_type": "code",
      "execution_count": 5,
      "metadata": {
        "colab": {
          "base_uri": "https://localhost:8080/",
          "height": 74
        },
        "id": "ynT7iJBFC-2x",
        "outputId": "a2b1b5c3-e946-4c92-bd44-02e8cebefbca"
      },
      "outputs": [
        {
          "name": "stdout",
          "output_type": "stream",
          "text": [
            "0: CGF_A_Survey_on_Visual_Traffic_Simulation_and_Animation.pdf\n",
            "1: coordinates.geojson\n",
            "2: geogebra-export.ggb\n",
            "3: geogebra-export1.ggb\n",
            "4: openstreet.ipynb\n",
            "5: osmosis-0.48.3\n",
            "6: osmosis-0.48.3.zip\n",
            "7: source.ipynb\n",
            "8: test.py\n"
          ]
        }
      ],
      "source": [
        "import os\n",
        "\n",
        "# List the files in the current directory\n",
        "files = os.listdir()\n",
        "\n",
        "# Print the files and their indices\n",
        "for i, file in enumerate(files):\n",
        "    print(f\"{i}: {file}\")\n",
        "\n",
        "# Ask the user to select a file\n",
        "selected_index = int(input(\"Select a file by entering its index: \"))\n",
        "\n",
        "# Open the selected file\n",
        "selected_file = open(files[selected_index], 'r')\n",
        "\n",
        "# Read the contents of the file\n",
        "data = selected_file.read()\n",
        "\n",
        "# Close the file\n",
        "selected_file.close()\n"
      ]
    },
    {
      "cell_type": "code",
      "execution_count": 9,
      "metadata": {
        "colab": {
          "base_uri": "https://localhost:8080/"
        },
        "id": "Ksd5w5ABCyap",
        "outputId": "bac6a9c7-32f8-4af5-e5bf-f0bc5ce9c369"
      },
      "outputs": [
        {
          "data": {
            "text/plain": [
              "{'type': 'FeatureCollection',\n",
              " 'features': [{'type': 'Feature',\n",
              "   'properties': {},\n",
              "   'geometry': {'type': 'Polygon',\n",
              "    'coordinates': [[[74.337334, 31.478084],\n",
              "      [74.337334, 31.480738],\n",
              "      [74.343341, 31.480738],\n",
              "      [74.343341, 31.478084],\n",
              "      [74.337334, 31.478084]]]}}]}"
            ]
          },
          "execution_count": 9,
          "metadata": {},
          "output_type": "execute_result"
        }
      ],
      "source": [
        "data = json.loads(data)"
      ]
    },
    {
      "cell_type": "code",
      "execution_count": 10,
      "metadata": {
        "colab": {
          "base_uri": "https://localhost:8080/"
        },
        "id": "IN-VGB7zEItZ",
        "outputId": "4e30652e-1ec3-4b6f-c097-ac6b45cad8d9"
      },
      "outputs": [
        {
          "data": {
            "text/plain": [
              "[[74.337334, 31.478084],\n",
              " [74.337334, 31.480738],\n",
              " [74.343341, 31.480738],\n",
              " [74.343341, 31.478084],\n",
              " [74.337334, 31.478084]]"
            ]
          },
          "execution_count": 10,
          "metadata": {},
          "output_type": "execute_result"
        }
      ],
      "source": [
        "coordinates=data['features'][0]['geometry']['coordinates'][0]\n",
        "coordinates#longitude, latitude"
      ]
    },
    {
      "cell_type": "code",
      "execution_count": 11,
      "metadata": {
        "id": "ovKqejAsIX3U"
      },
      "outputs": [],
      "source": [
        "top_right=coordinates[0]\n",
        "bottom_left=coordinates[2]"
      ]
    },
    {
      "cell_type": "code",
      "execution_count": 12,
      "metadata": {
        "id": "hGTPZsDEmwO3"
      },
      "outputs": [],
      "source": [
        "min_lat = top_right[1]\n",
        "max_lat = bottom_left[1]\n",
        "min_lon = top_right[0]\n",
        "max_lon = bottom_left[0]\n",
        "\n",
        "bounding_box = (min_lat, min_lon, max_lat, max_lon)"
      ]
    },
    {
      "cell_type": "code",
      "execution_count": 13,
      "metadata": {
        "id": "m2rb3kjpnXEf"
      },
      "outputs": [],
      "source": [
        "query=f\"\"\"[out:json][timeout:25];\n",
        "(\n",
        "  way\n",
        "    {bounding_box}\n",
        "    [\"highway\"];\n",
        ");\n",
        "out body;\n",
        ">;\n",
        "out skel qt;\"\"\""
      ]
    },
    {
      "cell_type": "code",
      "execution_count": null,
      "metadata": {
        "colab": {
          "base_uri": "https://localhost:8080/",
          "height": 36
        },
        "id": "_VBhBIbHpkM7",
        "outputId": "77f626b2-0745-42fa-80d3-231da6690921"
      },
      "outputs": [
        {
          "data": {
            "application/vnd.google.colaboratory.intrinsic+json": {
              "type": "string"
            },
            "text/plain": [
              "'[out:json][timeout:25];\\n(\\n  way\\n    (31.475858, 74.338565, 31.477034, 74.339434)\\n    [\"highway\"];\\n);\\nout body;\\n>;\\nout skel qt;'"
            ]
          },
          "execution_count": 60,
          "metadata": {},
          "output_type": "execute_result"
        }
      ],
      "source": [
        "query"
      ]
    },
    {
      "cell_type": "code",
      "execution_count": 17,
      "metadata": {
        "colab": {
          "base_uri": "https://localhost:8080/"
        },
        "id": "GR-jKksCplli",
        "outputId": "6727cc5d-dd87-4519-84b8-efe2bf51bd90"
      },
      "outputs": [],
      "source": [
        "endpoint = \"https://overpass-api.de/api/interpreter\"\n",
        "response = requests.get(endpoint, params={\"data\": query})\n",
        "\n",
        "data = response.json()#returns a list of dictionaries\n"
      ]
    },
    {
      "cell_type": "code",
      "execution_count": 15,
      "metadata": {
        "id": "cpURkJ6nQk6t"
      },
      "outputs": [],
      "source": [
        "data=data['elements']"
      ]
    },
    {
      "cell_type": "code",
      "execution_count": null,
      "metadata": {
        "colab": {
          "base_uri": "https://localhost:8080/",
          "height": 488
        },
        "id": "XwjAkriZqG6S",
        "outputId": "6e4bf851-c68e-4123-c9ed-a18b48be2993"
      },
      "outputs": [],
      "source": [
        "pd.set_option(\"display.max_colwidth\", 100)\n",
        "df = pd.DataFrame(data)\n",
        "df.head(55)"
      ]
    }
  ],
  "metadata": {
    "colab": {
      "provenance": []
    },
    "kernelspec": {
      "display_name": "Python 3",
      "language": "python",
      "name": "python3"
    },
    "language_info": {
      "codemirror_mode": {
        "name": "ipython",
        "version": 3
      },
      "file_extension": ".py",
      "mimetype": "text/x-python",
      "name": "python",
      "nbconvert_exporter": "python",
      "pygments_lexer": "ipython3",
      "version": "3.10.9 (tags/v3.10.9:1dd9be6, Dec  6 2022, 20:01:21) [MSC v.1934 64 bit (AMD64)]"
    },
    "vscode": {
      "interpreter": {
        "hash": "3c1617fc91a8b81cccac84f722718acc17319970cc77b8a7adba33e37745b0fe"
      }
    }
  },
  "nbformat": 4,
  "nbformat_minor": 0
}
